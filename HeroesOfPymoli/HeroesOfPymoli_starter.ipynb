{
 "cells": [
  {
   "cell_type": "markdown",
   "metadata": {},
   "source": [
    "### Note\n",
    "* Instructions have been included for each segment. You do not have to follow them exactly, but they are included to help you think through the steps."
   ]
  },
  {
   "cell_type": "code",
   "execution_count": 1,
   "metadata": {},
   "outputs": [],
   "source": [
    "# Dependencies and Setup\n",
    "import pandas as pd\n",
    "import numpy as np\n",
    "\n",
    "# File to Load (Remember to Change These)\n",
    "file_to_load = \"Resources/purchase_data.csv\"\n",
    "\n",
    "# Read Purchasing File and store into Pandas data frame\n",
    "purchase_data = pd.read_csv(file_to_load)"
   ]
  },
  {
   "cell_type": "markdown",
   "metadata": {},
   "source": [
    "## Player Count"
   ]
  },
  {
   "cell_type": "markdown",
   "metadata": {},
   "source": [
    "* Display the total number of players\n"
   ]
  },
  {
   "cell_type": "code",
   "execution_count": 2,
   "metadata": {},
   "outputs": [
    {
     "data": {
      "text/html": [
       "<div>\n",
       "<style scoped>\n",
       "    .dataframe tbody tr th:only-of-type {\n",
       "        vertical-align: middle;\n",
       "    }\n",
       "\n",
       "    .dataframe tbody tr th {\n",
       "        vertical-align: top;\n",
       "    }\n",
       "\n",
       "    .dataframe thead th {\n",
       "        text-align: right;\n",
       "    }\n",
       "</style>\n",
       "<table border=\"1\" class=\"dataframe\">\n",
       "  <thead>\n",
       "    <tr style=\"text-align: right;\">\n",
       "      <th></th>\n",
       "      <th>Purchase ID</th>\n",
       "      <th>SN</th>\n",
       "      <th>Age</th>\n",
       "      <th>Gender</th>\n",
       "      <th>Item ID</th>\n",
       "      <th>Item Name</th>\n",
       "      <th>Price</th>\n",
       "    </tr>\n",
       "  </thead>\n",
       "  <tbody>\n",
       "    <tr>\n",
       "      <td>0</td>\n",
       "      <td>0</td>\n",
       "      <td>Lisim78</td>\n",
       "      <td>20</td>\n",
       "      <td>Male</td>\n",
       "      <td>108</td>\n",
       "      <td>Extraction, Quickblade Of Trembling Hands</td>\n",
       "      <td>3.53</td>\n",
       "    </tr>\n",
       "    <tr>\n",
       "      <td>1</td>\n",
       "      <td>1</td>\n",
       "      <td>Lisovynya38</td>\n",
       "      <td>40</td>\n",
       "      <td>Male</td>\n",
       "      <td>143</td>\n",
       "      <td>Frenzied Scimitar</td>\n",
       "      <td>1.56</td>\n",
       "    </tr>\n",
       "    <tr>\n",
       "      <td>2</td>\n",
       "      <td>2</td>\n",
       "      <td>Ithergue48</td>\n",
       "      <td>24</td>\n",
       "      <td>Male</td>\n",
       "      <td>92</td>\n",
       "      <td>Final Critic</td>\n",
       "      <td>4.88</td>\n",
       "    </tr>\n",
       "    <tr>\n",
       "      <td>3</td>\n",
       "      <td>3</td>\n",
       "      <td>Chamassasya86</td>\n",
       "      <td>24</td>\n",
       "      <td>Male</td>\n",
       "      <td>100</td>\n",
       "      <td>Blindscythe</td>\n",
       "      <td>3.27</td>\n",
       "    </tr>\n",
       "    <tr>\n",
       "      <td>4</td>\n",
       "      <td>4</td>\n",
       "      <td>Iskosia90</td>\n",
       "      <td>23</td>\n",
       "      <td>Male</td>\n",
       "      <td>131</td>\n",
       "      <td>Fury</td>\n",
       "      <td>1.44</td>\n",
       "    </tr>\n",
       "  </tbody>\n",
       "</table>\n",
       "</div>"
      ],
      "text/plain": [
       "   Purchase ID             SN  Age Gender  Item ID  \\\n",
       "0            0        Lisim78   20   Male      108   \n",
       "1            1    Lisovynya38   40   Male      143   \n",
       "2            2     Ithergue48   24   Male       92   \n",
       "3            3  Chamassasya86   24   Male      100   \n",
       "4            4      Iskosia90   23   Male      131   \n",
       "\n",
       "                                   Item Name  Price  \n",
       "0  Extraction, Quickblade Of Trembling Hands   3.53  \n",
       "1                          Frenzied Scimitar   1.56  \n",
       "2                               Final Critic   4.88  \n",
       "3                                Blindscythe   3.27  \n",
       "4                                       Fury   1.44  "
      ]
     },
     "execution_count": 2,
     "metadata": {},
     "output_type": "execute_result"
    }
   ],
   "source": [
    "purchase_data.head()"
   ]
  },
  {
   "cell_type": "code",
   "execution_count": 3,
   "metadata": {},
   "outputs": [
    {
     "data": {
      "text/html": [
       "<div>\n",
       "<style scoped>\n",
       "    .dataframe tbody tr th:only-of-type {\n",
       "        vertical-align: middle;\n",
       "    }\n",
       "\n",
       "    .dataframe tbody tr th {\n",
       "        vertical-align: top;\n",
       "    }\n",
       "\n",
       "    .dataframe thead th {\n",
       "        text-align: right;\n",
       "    }\n",
       "</style>\n",
       "<table border=\"1\" class=\"dataframe\">\n",
       "  <thead>\n",
       "    <tr style=\"text-align: right;\">\n",
       "      <th></th>\n",
       "      <th>total players</th>\n",
       "    </tr>\n",
       "  </thead>\n",
       "  <tbody>\n",
       "    <tr>\n",
       "      <td>0</td>\n",
       "      <td>576</td>\n",
       "    </tr>\n",
       "  </tbody>\n",
       "</table>\n",
       "</div>"
      ],
      "text/plain": [
       "   total players\n",
       "0            576"
      ]
     },
     "execution_count": 3,
     "metadata": {},
     "output_type": "execute_result"
    }
   ],
   "source": [
    "name_counts = purchase_data[\"SN\"].value_counts()\n",
    "total_players = pd.DataFrame({\"total players\": [len(name_counts)]})\n",
    "total_players"
   ]
  },
  {
   "cell_type": "markdown",
   "metadata": {},
   "source": [
    "## Purchasing Analysis (Total)"
   ]
  },
  {
   "cell_type": "markdown",
   "metadata": {},
   "source": [
    "* Run basic calculations to obtain number of unique items, average price, etc.\n",
    "\n",
    "\n",
    "* Create a summary data frame to hold the results\n",
    "\n",
    "\n",
    "* Optional: give the displayed data cleaner formatting\n",
    "\n",
    "\n",
    "* Display the summary data frame\n"
   ]
  },
  {
   "cell_type": "code",
   "execution_count": 4,
   "metadata": {
    "scrolled": true
   },
   "outputs": [
    {
     "data": {
      "text/html": [
       "<div>\n",
       "<style scoped>\n",
       "    .dataframe tbody tr th:only-of-type {\n",
       "        vertical-align: middle;\n",
       "    }\n",
       "\n",
       "    .dataframe tbody tr th {\n",
       "        vertical-align: top;\n",
       "    }\n",
       "\n",
       "    .dataframe thead th {\n",
       "        text-align: right;\n",
       "    }\n",
       "</style>\n",
       "<table border=\"1\" class=\"dataframe\">\n",
       "  <thead>\n",
       "    <tr style=\"text-align: right;\">\n",
       "      <th></th>\n",
       "      <th>Number of Unique Items</th>\n",
       "      <th>Average Price</th>\n",
       "      <th>Number of Purchases</th>\n",
       "      <th>Total Revenue</th>\n",
       "    </tr>\n",
       "  </thead>\n",
       "  <tbody>\n",
       "    <tr>\n",
       "      <td>0</td>\n",
       "      <td>183</td>\n",
       "      <td>$3.05</td>\n",
       "      <td>780</td>\n",
       "      <td>$2379.77</td>\n",
       "    </tr>\n",
       "  </tbody>\n",
       "</table>\n",
       "</div>"
      ],
      "text/plain": [
       "   Number of Unique Items Average Price  Number of Purchases Total Revenue\n",
       "0                     183         $3.05                  780      $2379.77"
      ]
     },
     "execution_count": 4,
     "metadata": {},
     "output_type": "execute_result"
    }
   ],
   "source": [
    "item_id = purchase_data[\"Item ID\"].value_counts()\n",
    "item_number = len(item_id)\n",
    "average_price = f'${round(purchase_data[\"Price\"].mean(),2)}'\n",
    "purchases_number = len(purchase_data[\"Item ID\"])\n",
    "total_revenue = f'${purchase_data[\"Price\"].sum()}'\n",
    "purchase_analysis_df = pd.DataFrame({\"Number of Unique Items\":[item_number],\"Average Price\":[average_price],\n",
    "                                    \"Number of Purchases\":[purchases_number],\"Total Revenue\":[total_revenue]})\n",
    "purchase_analysis_df"
   ]
  },
  {
   "cell_type": "markdown",
   "metadata": {},
   "source": [
    "## Gender Demographics"
   ]
  },
  {
   "cell_type": "markdown",
   "metadata": {},
   "source": [
    "* Percentage and Count of Male Players\n",
    "\n",
    "\n",
    "* Percentage and Count of Female Players\n",
    "\n",
    "\n",
    "* Percentage and Count of Other / Non-Disclosed\n",
    "\n",
    "\n"
   ]
  },
  {
   "cell_type": "code",
   "execution_count": 5,
   "metadata": {},
   "outputs": [
    {
     "data": {
      "text/html": [
       "<div>\n",
       "<style scoped>\n",
       "    .dataframe tbody tr th:only-of-type {\n",
       "        vertical-align: middle;\n",
       "    }\n",
       "\n",
       "    .dataframe tbody tr th {\n",
       "        vertical-align: top;\n",
       "    }\n",
       "\n",
       "    .dataframe thead th {\n",
       "        text-align: right;\n",
       "    }\n",
       "</style>\n",
       "<table border=\"1\" class=\"dataframe\">\n",
       "  <thead>\n",
       "    <tr style=\"text-align: right;\">\n",
       "      <th></th>\n",
       "      <th>Total Count</th>\n",
       "      <th>Percentage of Players</th>\n",
       "    </tr>\n",
       "    <tr>\n",
       "      <th>Gender</th>\n",
       "      <th></th>\n",
       "      <th></th>\n",
       "    </tr>\n",
       "  </thead>\n",
       "  <tbody>\n",
       "    <tr>\n",
       "      <td>Female</td>\n",
       "      <td>81</td>\n",
       "      <td>14.06%</td>\n",
       "    </tr>\n",
       "    <tr>\n",
       "      <td>Male</td>\n",
       "      <td>484</td>\n",
       "      <td>84.03%</td>\n",
       "    </tr>\n",
       "    <tr>\n",
       "      <td>Other / Non-Disclosed</td>\n",
       "      <td>11</td>\n",
       "      <td>1.91%</td>\n",
       "    </tr>\n",
       "  </tbody>\n",
       "</table>\n",
       "</div>"
      ],
      "text/plain": [
       "                       Total Count Percentage of Players\n",
       "Gender                                                  \n",
       "Female                          81                14.06%\n",
       "Male                           484                84.03%\n",
       "Other / Non-Disclosed           11                 1.91%"
      ]
     },
     "execution_count": 5,
     "metadata": {},
     "output_type": "execute_result"
    }
   ],
   "source": [
    "gender_df = purchase_data[[\"Gender\",\"SN\"]]\n",
    "gender_groupby_df = gender_df.groupby(\"Gender\")\n",
    "uniques_df = gender_groupby_df.nunique(\"Gender\")\n",
    "gender_demo_df = uniques_df.rename(columns={\"SN\": \"Total Count\"})\n",
    "total_players = len(purchase_data[\"SN\"].value_counts())\n",
    "percentage_of_players = gender_demo_df[\"Total Count\"]/total_players\n",
    "gender_demo_df[\"Percentage of Players\"] = percentage_of_players\n",
    "del gender_demo_df[\"Gender\"]\n",
    "gender_demo_df[\"Percentage of Players\"] = gender_demo_df[\"Percentage of Players\"].astype(float).map(\"{:.2%}\".format)\n",
    "gender_demo_df"
   ]
  },
  {
   "cell_type": "markdown",
   "metadata": {},
   "source": [
    "\n",
    "## Purchasing Analysis (Gender)"
   ]
  },
  {
   "cell_type": "markdown",
   "metadata": {},
   "source": [
    "* Run basic calculations to obtain purchase count, avg. purchase price, avg. purchase total per person etc. by gender\n",
    "\n",
    "\n",
    "\n",
    "\n",
    "* Create a summary data frame to hold the results\n",
    "\n",
    "\n",
    "* Optional: give the displayed data cleaner formatting\n",
    "\n",
    "\n",
    "* Display the summary data frame"
   ]
  },
  {
   "cell_type": "code",
   "execution_count": 32,
   "metadata": {},
   "outputs": [
    {
     "data": {
      "text/html": [
       "<style  type=\"text/css\" >\n",
       "</style><table id=\"T_84d88710_08ee_11ea_9314_f06e0be4d4c1\" ><thead>    <tr>        <th class=\"blank level0\" ></th>        <th class=\"col_heading level0 col0\" >Purchase Count</th>        <th class=\"col_heading level0 col1\" >Average Purchase Price</th>        <th class=\"col_heading level0 col2\" >Total Purchase Value</th>        <th class=\"col_heading level0 col3\" >Average Total Purchase per Person</th>    </tr>    <tr>        <th class=\"index_name level0\" >Gender</th>        <th class=\"blank\" ></th>        <th class=\"blank\" ></th>        <th class=\"blank\" ></th>        <th class=\"blank\" ></th>    </tr></thead><tbody>\n",
       "                <tr>\n",
       "                        <th id=\"T_84d88710_08ee_11ea_9314_f06e0be4d4c1level0_row0\" class=\"row_heading level0 row0\" >Female</th>\n",
       "                        <td id=\"T_84d88710_08ee_11ea_9314_f06e0be4d4c1row0_col0\" class=\"data row0 col0\" >113</td>\n",
       "                        <td id=\"T_84d88710_08ee_11ea_9314_f06e0be4d4c1row0_col1\" class=\"data row0 col1\" >$3.20</td>\n",
       "                        <td id=\"T_84d88710_08ee_11ea_9314_f06e0be4d4c1row0_col2\" class=\"data row0 col2\" >$361.94</td>\n",
       "                        <td id=\"T_84d88710_08ee_11ea_9314_f06e0be4d4c1row0_col3\" class=\"data row0 col3\" >$4.47</td>\n",
       "            </tr>\n",
       "            <tr>\n",
       "                        <th id=\"T_84d88710_08ee_11ea_9314_f06e0be4d4c1level0_row1\" class=\"row_heading level0 row1\" >Male</th>\n",
       "                        <td id=\"T_84d88710_08ee_11ea_9314_f06e0be4d4c1row1_col0\" class=\"data row1 col0\" >652</td>\n",
       "                        <td id=\"T_84d88710_08ee_11ea_9314_f06e0be4d4c1row1_col1\" class=\"data row1 col1\" >$3.02</td>\n",
       "                        <td id=\"T_84d88710_08ee_11ea_9314_f06e0be4d4c1row1_col2\" class=\"data row1 col2\" >$1,967.64</td>\n",
       "                        <td id=\"T_84d88710_08ee_11ea_9314_f06e0be4d4c1row1_col3\" class=\"data row1 col3\" >$4.07</td>\n",
       "            </tr>\n",
       "            <tr>\n",
       "                        <th id=\"T_84d88710_08ee_11ea_9314_f06e0be4d4c1level0_row2\" class=\"row_heading level0 row2\" >Other / Non-Disclosed</th>\n",
       "                        <td id=\"T_84d88710_08ee_11ea_9314_f06e0be4d4c1row2_col0\" class=\"data row2 col0\" >15</td>\n",
       "                        <td id=\"T_84d88710_08ee_11ea_9314_f06e0be4d4c1row2_col1\" class=\"data row2 col1\" >$3.35</td>\n",
       "                        <td id=\"T_84d88710_08ee_11ea_9314_f06e0be4d4c1row2_col2\" class=\"data row2 col2\" >$50.19</td>\n",
       "                        <td id=\"T_84d88710_08ee_11ea_9314_f06e0be4d4c1row2_col3\" class=\"data row2 col3\" >$4.56</td>\n",
       "            </tr>\n",
       "    </tbody></table>"
      ],
      "text/plain": [
       "<pandas.io.formats.style.Styler at 0x27611dc7548>"
      ]
     },
     "execution_count": 32,
     "metadata": {},
     "output_type": "execute_result"
    }
   ],
   "source": [
    "gender_df = purchase_data[[\"Gender\",\"SN\"]]\n",
    "gender_purchase_df = gender_df.groupby(\"Gender\")\n",
    "purchase_count_df = gender_purchase_df.count()\n",
    "purchase_count_df = purchase_count_df.rename(columns={\"SN\": \"Purchase Count\"})\n",
    "\n",
    "gender_df = purchase_data[[\"Gender\",\"Price\"]]\n",
    "gender_price_df = gender_df.groupby(\"Gender\")\n",
    "price_avg_df = gender_price_df.mean()\n",
    "purchase_count_df[\"Average Purchase Price\"] = price_avg_df\n",
    "\n",
    "\n",
    "total_purchase_group_df = gender_price_df.sum()\n",
    "purchase_count_df[\"Total Purchase Value\"] = total_purchase_group_df\n",
    "\n",
    "\n",
    "person_gender_df = pd.DataFrame(gender_demo_df[\"Total Count\"])\n",
    "person_gender_df[\"Total Purchase\"]=total_purchase_group_df\n",
    "\n",
    "avg_purchase_person_df = round(person_gender_df[\"Total Purchase\"]/person_gender_df[\"Total Count\"],2)\n",
    "purchase_count_df[\"Average Total Purchase per Person\"] = avg_purchase_person_df\n",
    "\n",
    "purchase_count_df.style.format({\"Average Purchase Price\":\"${:,.2f}\",\n",
    "                                  \"Total Purchase Value\":\"${:,.2f}\",\n",
    "                                  \"Average Total Purchase per Person\":\"${:,.2f}\"})"
   ]
  },
  {
   "cell_type": "markdown",
   "metadata": {},
   "source": [
    "## Age Demographics"
   ]
  },
  {
   "cell_type": "markdown",
   "metadata": {},
   "source": [
    "* Establish bins for ages\n",
    "\n",
    "\n",
    "* Categorize the existing players using the age bins. Hint: use pd.cut()\n",
    "\n",
    "\n",
    "* Calculate the numbers and percentages by age group\n",
    "\n",
    "\n",
    "* Create a summary data frame to hold the results\n",
    "\n",
    "\n",
    "* Optional: round the percentage column to two decimal points\n",
    "\n",
    "\n",
    "* Display Age Demographics Table\n"
   ]
  },
  {
   "cell_type": "code",
   "execution_count": 26,
   "metadata": {},
   "outputs": [
    {
     "data": {
      "text/html": [
       "<div>\n",
       "<style scoped>\n",
       "    .dataframe tbody tr th:only-of-type {\n",
       "        vertical-align: middle;\n",
       "    }\n",
       "\n",
       "    .dataframe tbody tr th {\n",
       "        vertical-align: top;\n",
       "    }\n",
       "\n",
       "    .dataframe thead th {\n",
       "        text-align: right;\n",
       "    }\n",
       "</style>\n",
       "<table border=\"1\" class=\"dataframe\">\n",
       "  <thead>\n",
       "    <tr style=\"text-align: right;\">\n",
       "      <th></th>\n",
       "      <th>Total Count</th>\n",
       "      <th>Percentage of Players</th>\n",
       "    </tr>\n",
       "  </thead>\n",
       "  <tbody>\n",
       "    <tr>\n",
       "      <td>&lt;10</td>\n",
       "      <td>17</td>\n",
       "      <td>2.95%</td>\n",
       "    </tr>\n",
       "    <tr>\n",
       "      <td>10-14</td>\n",
       "      <td>22</td>\n",
       "      <td>3.82%</td>\n",
       "    </tr>\n",
       "    <tr>\n",
       "      <td>15-19</td>\n",
       "      <td>107</td>\n",
       "      <td>18.58%</td>\n",
       "    </tr>\n",
       "    <tr>\n",
       "      <td>20-24</td>\n",
       "      <td>258</td>\n",
       "      <td>44.79%</td>\n",
       "    </tr>\n",
       "    <tr>\n",
       "      <td>25-29</td>\n",
       "      <td>77</td>\n",
       "      <td>13.37%</td>\n",
       "    </tr>\n",
       "    <tr>\n",
       "      <td>30-34</td>\n",
       "      <td>52</td>\n",
       "      <td>9.03%</td>\n",
       "    </tr>\n",
       "    <tr>\n",
       "      <td>35-39</td>\n",
       "      <td>31</td>\n",
       "      <td>5.38%</td>\n",
       "    </tr>\n",
       "    <tr>\n",
       "      <td>40+</td>\n",
       "      <td>12</td>\n",
       "      <td>2.08%</td>\n",
       "    </tr>\n",
       "  </tbody>\n",
       "</table>\n",
       "</div>"
      ],
      "text/plain": [
       "       Total Count Percentage of Players\n",
       "<10             17                 2.95%\n",
       "10-14           22                 3.82%\n",
       "15-19          107                18.58%\n",
       "20-24          258                44.79%\n",
       "25-29           77                13.37%\n",
       "30-34           52                 9.03%\n",
       "35-39           31                 5.38%\n",
       "40+             12                 2.08%"
      ]
     },
     "execution_count": 26,
     "metadata": {},
     "output_type": "execute_result"
    }
   ],
   "source": [
    "bins = [0,9,14,19,24,29,34,39,50]\n",
    "group_labels = [\"<10\", \"10-14\", \"15-19\", \"20-24\", \"25-29\", \"30-34\",\"35-39\", \"40+\"]\n",
    "purchase_data[\"Age range\"]=pd.cut(purchase_data[\"Age\"], bins, labels=group_labels)\n",
    "purchase_data\n",
    "Age_groupby_df = purchase_data.groupby(\"Age range\")\n",
    "uniques_df = Age_groupby_df.nunique(\"Age range\")\n",
    "age_demo_df = uniques_df[\"SN\"]\n",
    "age_demo_df = pd.DataFrame(age_demo_df)\n",
    "age_demo_df = age_demo_df.rename(columns={\"SN\": \"Total Count\"})\n",
    "age_demo_df\n",
    "total_players = len(purchase_data[\"SN\"].value_counts())\n",
    "percentage_of_players = age_demo_df[\"Total Count\"]/total_players\n",
    "age_demo_df[\"Percentage of Players\"] = percentage_of_players\n",
    "age_demo_df[\"Percentage of Players\"] = age_demo_df[\"Percentage of Players\"].astype(float).map(\"{:.2%}\".format)\n",
    "\n",
    "age_demo_df.index.name = None\n",
    "age_demo_df"
   ]
  },
  {
   "cell_type": "markdown",
   "metadata": {},
   "source": [
    "## Purchasing Analysis (Age)"
   ]
  },
  {
   "cell_type": "markdown",
   "metadata": {},
   "source": [
    "* Bin the purchase_data data frame by age\n",
    "\n",
    "\n",
    "* Run basic calculations to obtain purchase count, avg. purchase price, avg. purchase total per person etc. in the table below\n",
    "\n",
    "\n",
    "* Create a summary data frame to hold the results\n",
    "\n",
    "\n",
    "* Optional: give the displayed data cleaner formatting\n",
    "\n",
    "\n",
    "* Display the summary data frame"
   ]
  },
  {
   "cell_type": "code",
   "execution_count": 31,
   "metadata": {},
   "outputs": [
    {
     "data": {
      "text/html": [
       "<style  type=\"text/css\" >\n",
       "</style><table id=\"T_53a8b32e_08ee_11ea_bd9d_f06e0be4d4c1\" ><thead>    <tr>        <th class=\"blank level0\" ></th>        <th class=\"col_heading level0 col0\" >Purchase Count</th>        <th class=\"col_heading level0 col1\" >Average Purchase Price</th>        <th class=\"col_heading level0 col2\" >Total Purchase Value</th>        <th class=\"col_heading level0 col3\" >Average Total Purchase per Person</th>    </tr>    <tr>        <th class=\"index_name level0\" >Age range</th>        <th class=\"blank\" ></th>        <th class=\"blank\" ></th>        <th class=\"blank\" ></th>        <th class=\"blank\" ></th>    </tr></thead><tbody>\n",
       "                <tr>\n",
       "                        <th id=\"T_53a8b32e_08ee_11ea_bd9d_f06e0be4d4c1level0_row0\" class=\"row_heading level0 row0\" ><10</th>\n",
       "                        <td id=\"T_53a8b32e_08ee_11ea_bd9d_f06e0be4d4c1row0_col0\" class=\"data row0 col0\" >23</td>\n",
       "                        <td id=\"T_53a8b32e_08ee_11ea_bd9d_f06e0be4d4c1row0_col1\" class=\"data row0 col1\" >$3.35</td>\n",
       "                        <td id=\"T_53a8b32e_08ee_11ea_bd9d_f06e0be4d4c1row0_col2\" class=\"data row0 col2\" >$77.13</td>\n",
       "                        <td id=\"T_53a8b32e_08ee_11ea_bd9d_f06e0be4d4c1row0_col3\" class=\"data row0 col3\" >$4.54</td>\n",
       "            </tr>\n",
       "            <tr>\n",
       "                        <th id=\"T_53a8b32e_08ee_11ea_bd9d_f06e0be4d4c1level0_row1\" class=\"row_heading level0 row1\" >10-14</th>\n",
       "                        <td id=\"T_53a8b32e_08ee_11ea_bd9d_f06e0be4d4c1row1_col0\" class=\"data row1 col0\" >28</td>\n",
       "                        <td id=\"T_53a8b32e_08ee_11ea_bd9d_f06e0be4d4c1row1_col1\" class=\"data row1 col1\" >$2.96</td>\n",
       "                        <td id=\"T_53a8b32e_08ee_11ea_bd9d_f06e0be4d4c1row1_col2\" class=\"data row1 col2\" >$82.78</td>\n",
       "                        <td id=\"T_53a8b32e_08ee_11ea_bd9d_f06e0be4d4c1row1_col3\" class=\"data row1 col3\" >$3.76</td>\n",
       "            </tr>\n",
       "            <tr>\n",
       "                        <th id=\"T_53a8b32e_08ee_11ea_bd9d_f06e0be4d4c1level0_row2\" class=\"row_heading level0 row2\" >15-19</th>\n",
       "                        <td id=\"T_53a8b32e_08ee_11ea_bd9d_f06e0be4d4c1row2_col0\" class=\"data row2 col0\" >136</td>\n",
       "                        <td id=\"T_53a8b32e_08ee_11ea_bd9d_f06e0be4d4c1row2_col1\" class=\"data row2 col1\" >$3.04</td>\n",
       "                        <td id=\"T_53a8b32e_08ee_11ea_bd9d_f06e0be4d4c1row2_col2\" class=\"data row2 col2\" >$412.89</td>\n",
       "                        <td id=\"T_53a8b32e_08ee_11ea_bd9d_f06e0be4d4c1row2_col3\" class=\"data row2 col3\" >$3.86</td>\n",
       "            </tr>\n",
       "            <tr>\n",
       "                        <th id=\"T_53a8b32e_08ee_11ea_bd9d_f06e0be4d4c1level0_row3\" class=\"row_heading level0 row3\" >20-24</th>\n",
       "                        <td id=\"T_53a8b32e_08ee_11ea_bd9d_f06e0be4d4c1row3_col0\" class=\"data row3 col0\" >365</td>\n",
       "                        <td id=\"T_53a8b32e_08ee_11ea_bd9d_f06e0be4d4c1row3_col1\" class=\"data row3 col1\" >$3.05</td>\n",
       "                        <td id=\"T_53a8b32e_08ee_11ea_bd9d_f06e0be4d4c1row3_col2\" class=\"data row3 col2\" >$1,114.06</td>\n",
       "                        <td id=\"T_53a8b32e_08ee_11ea_bd9d_f06e0be4d4c1row3_col3\" class=\"data row3 col3\" >$4.32</td>\n",
       "            </tr>\n",
       "            <tr>\n",
       "                        <th id=\"T_53a8b32e_08ee_11ea_bd9d_f06e0be4d4c1level0_row4\" class=\"row_heading level0 row4\" >25-29</th>\n",
       "                        <td id=\"T_53a8b32e_08ee_11ea_bd9d_f06e0be4d4c1row4_col0\" class=\"data row4 col0\" >101</td>\n",
       "                        <td id=\"T_53a8b32e_08ee_11ea_bd9d_f06e0be4d4c1row4_col1\" class=\"data row4 col1\" >$2.90</td>\n",
       "                        <td id=\"T_53a8b32e_08ee_11ea_bd9d_f06e0be4d4c1row4_col2\" class=\"data row4 col2\" >$293.00</td>\n",
       "                        <td id=\"T_53a8b32e_08ee_11ea_bd9d_f06e0be4d4c1row4_col3\" class=\"data row4 col3\" >$3.81</td>\n",
       "            </tr>\n",
       "            <tr>\n",
       "                        <th id=\"T_53a8b32e_08ee_11ea_bd9d_f06e0be4d4c1level0_row5\" class=\"row_heading level0 row5\" >30-34</th>\n",
       "                        <td id=\"T_53a8b32e_08ee_11ea_bd9d_f06e0be4d4c1row5_col0\" class=\"data row5 col0\" >73</td>\n",
       "                        <td id=\"T_53a8b32e_08ee_11ea_bd9d_f06e0be4d4c1row5_col1\" class=\"data row5 col1\" >$2.93</td>\n",
       "                        <td id=\"T_53a8b32e_08ee_11ea_bd9d_f06e0be4d4c1row5_col2\" class=\"data row5 col2\" >$214.00</td>\n",
       "                        <td id=\"T_53a8b32e_08ee_11ea_bd9d_f06e0be4d4c1row5_col3\" class=\"data row5 col3\" >$4.12</td>\n",
       "            </tr>\n",
       "            <tr>\n",
       "                        <th id=\"T_53a8b32e_08ee_11ea_bd9d_f06e0be4d4c1level0_row6\" class=\"row_heading level0 row6\" >35-39</th>\n",
       "                        <td id=\"T_53a8b32e_08ee_11ea_bd9d_f06e0be4d4c1row6_col0\" class=\"data row6 col0\" >41</td>\n",
       "                        <td id=\"T_53a8b32e_08ee_11ea_bd9d_f06e0be4d4c1row6_col1\" class=\"data row6 col1\" >$3.60</td>\n",
       "                        <td id=\"T_53a8b32e_08ee_11ea_bd9d_f06e0be4d4c1row6_col2\" class=\"data row6 col2\" >$147.67</td>\n",
       "                        <td id=\"T_53a8b32e_08ee_11ea_bd9d_f06e0be4d4c1row6_col3\" class=\"data row6 col3\" >$4.76</td>\n",
       "            </tr>\n",
       "            <tr>\n",
       "                        <th id=\"T_53a8b32e_08ee_11ea_bd9d_f06e0be4d4c1level0_row7\" class=\"row_heading level0 row7\" >40+</th>\n",
       "                        <td id=\"T_53a8b32e_08ee_11ea_bd9d_f06e0be4d4c1row7_col0\" class=\"data row7 col0\" >13</td>\n",
       "                        <td id=\"T_53a8b32e_08ee_11ea_bd9d_f06e0be4d4c1row7_col1\" class=\"data row7 col1\" >$2.94</td>\n",
       "                        <td id=\"T_53a8b32e_08ee_11ea_bd9d_f06e0be4d4c1row7_col2\" class=\"data row7 col2\" >$38.24</td>\n",
       "                        <td id=\"T_53a8b32e_08ee_11ea_bd9d_f06e0be4d4c1row7_col3\" class=\"data row7 col3\" >$3.19</td>\n",
       "            </tr>\n",
       "    </tbody></table>"
      ],
      "text/plain": [
       "<pandas.io.formats.style.Styler at 0x27616295bc8>"
      ]
     },
     "execution_count": 31,
     "metadata": {},
     "output_type": "execute_result"
    }
   ],
   "source": [
    "bins = [0,9,14,19,24,29,34,39,50]\n",
    "group_labels = [\"<10\", \"10-14\", \"15-19\", \"20-24\", \"25-29\", \"30-34\",\"35-39\", \"40+\"]\n",
    "purchase_data[\"Age range\"]=pd.cut(purchase_data[\"Age\"], bins, labels=group_labels)\n",
    "purchase_data\n",
    "Age_groupby_df = purchase_data.groupby(\"Age range\")\n",
    "uniques_df = Age_groupby_df.nunique(\"Age range\")\n",
    "age_purchase_df = uniques_df[\"Purchase ID\"]\n",
    "age_purchase_df = pd.DataFrame(age_purchase_df)\n",
    "age_purchase_df = age_purchase_df.rename(columns={\"Purchase ID\": \"Purchase Count\"})\n",
    "age_pur_df =age_purchase_df\n",
    "\n",
    "age_price_df = purchase_data.groupby(\"Age range\")\n",
    "age_avg_price_df = age_price_df.mean()\n",
    "age_avg_price_df = age_avg_price_df[\"Price\"]\n",
    "age_pur_df[\"Average Purchase Price\"] = age_avg_price_df\n",
    "\n",
    "total_purchase_df = purchase_data.groupby(\"Age range\")\n",
    "age_total_purchase_df = total_purchase_df.sum()\n",
    "age_total_purchase_df = age_total_purchase_df[\"Price\"]\n",
    "age_pur_df[\"Total Purchase Value\"] = age_total_purchase_df\n",
    "age_pur_df\n",
    "\n",
    "avg_age_purchase_df = age_pur_df[\"Total Purchase Value\"]/age_demo_df[\"Total Count\"]\n",
    "age_pur_df[\"Average Total Purchase per Person\"] = avg_age_purchase_df\n",
    "\n",
    "age_pur_df.style.format({\"Average Purchase Price\":\"${:,.2f}\",\n",
    "                               \"Total Purchase Value\":\"${:,.2f}\",\n",
    "                               \"Average Total Purchase per Person\":\"${:,.2f}\"})"
   ]
  },
  {
   "cell_type": "markdown",
   "metadata": {},
   "source": [
    "## Top Spenders"
   ]
  },
  {
   "cell_type": "markdown",
   "metadata": {},
   "source": [
    "* Run basic calculations to obtain the results in the table below\n",
    "\n",
    "\n",
    "* Create a summary data frame to hold the results\n",
    "\n",
    "\n",
    "* Sort the total purchase value column in descending order\n",
    "\n",
    "\n",
    "* Optional: give the displayed data cleaner formatting\n",
    "\n",
    "\n",
    "* Display a preview of the summary data frame\n",
    "\n"
   ]
  },
  {
   "cell_type": "code",
   "execution_count": 44,
   "metadata": {},
   "outputs": [
    {
     "data": {
      "text/html": [
       "<style  type=\"text/css\" >\n",
       "</style><table id=\"T_67e37936_08f7_11ea_9feb_f06e0be4d4c1\" ><thead>    <tr>        <th class=\"blank level0\" ></th>        <th class=\"col_heading level0 col0\" >Purchase Count</th>        <th class=\"col_heading level0 col1\" >Average Purchase Price</th>        <th class=\"col_heading level0 col2\" >Total Purchase Value</th>    </tr>    <tr>        <th class=\"index_name level0\" >SN</th>        <th class=\"blank\" ></th>        <th class=\"blank\" ></th>        <th class=\"blank\" ></th>    </tr></thead><tbody>\n",
       "                <tr>\n",
       "                        <th id=\"T_67e37936_08f7_11ea_9feb_f06e0be4d4c1level0_row0\" class=\"row_heading level0 row0\" >Lisosia93</th>\n",
       "                        <td id=\"T_67e37936_08f7_11ea_9feb_f06e0be4d4c1row0_col0\" class=\"data row0 col0\" >5</td>\n",
       "                        <td id=\"T_67e37936_08f7_11ea_9feb_f06e0be4d4c1row0_col1\" class=\"data row0 col1\" >$3.79</td>\n",
       "                        <td id=\"T_67e37936_08f7_11ea_9feb_f06e0be4d4c1row0_col2\" class=\"data row0 col2\" >$18.96</td>\n",
       "            </tr>\n",
       "            <tr>\n",
       "                        <th id=\"T_67e37936_08f7_11ea_9feb_f06e0be4d4c1level0_row1\" class=\"row_heading level0 row1\" >Idastidru52</th>\n",
       "                        <td id=\"T_67e37936_08f7_11ea_9feb_f06e0be4d4c1row1_col0\" class=\"data row1 col0\" >4</td>\n",
       "                        <td id=\"T_67e37936_08f7_11ea_9feb_f06e0be4d4c1row1_col1\" class=\"data row1 col1\" >$3.86</td>\n",
       "                        <td id=\"T_67e37936_08f7_11ea_9feb_f06e0be4d4c1row1_col2\" class=\"data row1 col2\" >$15.45</td>\n",
       "            </tr>\n",
       "            <tr>\n",
       "                        <th id=\"T_67e37936_08f7_11ea_9feb_f06e0be4d4c1level0_row2\" class=\"row_heading level0 row2\" >Chamjask73</th>\n",
       "                        <td id=\"T_67e37936_08f7_11ea_9feb_f06e0be4d4c1row2_col0\" class=\"data row2 col0\" >3</td>\n",
       "                        <td id=\"T_67e37936_08f7_11ea_9feb_f06e0be4d4c1row2_col1\" class=\"data row2 col1\" >$4.61</td>\n",
       "                        <td id=\"T_67e37936_08f7_11ea_9feb_f06e0be4d4c1row2_col2\" class=\"data row2 col2\" >$13.83</td>\n",
       "            </tr>\n",
       "            <tr>\n",
       "                        <th id=\"T_67e37936_08f7_11ea_9feb_f06e0be4d4c1level0_row3\" class=\"row_heading level0 row3\" >Iral74</th>\n",
       "                        <td id=\"T_67e37936_08f7_11ea_9feb_f06e0be4d4c1row3_col0\" class=\"data row3 col0\" >4</td>\n",
       "                        <td id=\"T_67e37936_08f7_11ea_9feb_f06e0be4d4c1row3_col1\" class=\"data row3 col1\" >$3.40</td>\n",
       "                        <td id=\"T_67e37936_08f7_11ea_9feb_f06e0be4d4c1row3_col2\" class=\"data row3 col2\" >$13.62</td>\n",
       "            </tr>\n",
       "            <tr>\n",
       "                        <th id=\"T_67e37936_08f7_11ea_9feb_f06e0be4d4c1level0_row4\" class=\"row_heading level0 row4\" >Iskadarya95</th>\n",
       "                        <td id=\"T_67e37936_08f7_11ea_9feb_f06e0be4d4c1row4_col0\" class=\"data row4 col0\" >3</td>\n",
       "                        <td id=\"T_67e37936_08f7_11ea_9feb_f06e0be4d4c1row4_col1\" class=\"data row4 col1\" >$4.37</td>\n",
       "                        <td id=\"T_67e37936_08f7_11ea_9feb_f06e0be4d4c1row4_col2\" class=\"data row4 col2\" >$13.10</td>\n",
       "            </tr>\n",
       "    </tbody></table>"
      ],
      "text/plain": [
       "<pandas.io.formats.style.Styler at 0x276161fc388>"
      ]
     },
     "execution_count": 44,
     "metadata": {},
     "output_type": "execute_result"
    }
   ],
   "source": [
    "SN_groupby = purchase_data.groupby(\"SN\")\n",
    "\n",
    "purchase_count = SN_groupby[\"Purchase ID\"].count()\n",
    "\n",
    "avg_purchase_price = SN_groupby[\"Price\"].mean()\n",
    "\n",
    "purchase_total = SN_groupby[\"Price\"].sum()\n",
    "\n",
    "spenders = pd.DataFrame({\"Purchase Count\": purchase_count,\n",
    "                             \"Average Purchase Price\": avg_purchase_price,\n",
    "                             \"Total Purchase Value\":purchase_total})\n",
    "\n",
    "top_spenders = spenders_df.sort_values([\"Total Purchase Value\"], ascending=False).head()\n",
    "\n",
    "top_spenders.style.format({\"Average Purchase Total\":\"${:,.2f}\",\n",
    "                                 \"Average Purchase Price\":\"${:,.2f}\", \n",
    "                                 \"Total Purchase Value\":\"${:,.2f}\"})"
   ]
  },
  {
   "cell_type": "markdown",
   "metadata": {},
   "source": [
    "## Most Popular Items"
   ]
  },
  {
   "cell_type": "markdown",
   "metadata": {},
   "source": [
    "* Retrieve the Item ID, Item Name, and Item Price columns\n",
    "\n",
    "\n",
    "* Group by Item ID and Item Name. Perform calculations to obtain purchase count, item price, and total purchase value\n",
    "\n",
    "\n",
    "* Create a summary data frame to hold the results\n",
    "\n",
    "\n",
    "* Sort the purchase count column in descending order\n",
    "\n",
    "\n",
    "* Optional: give the displayed data cleaner formatting\n",
    "\n",
    "\n",
    "* Display a preview of the summary data frame\n",
    "\n"
   ]
  },
  {
   "cell_type": "code",
   "execution_count": 45,
   "metadata": {},
   "outputs": [
    {
     "data": {
      "text/html": [
       "<style  type=\"text/css\" >\n",
       "</style><table id=\"T_9b114128_08f7_11ea_9537_f06e0be4d4c1\" ><thead>    <tr>        <th class=\"blank\" ></th>        <th class=\"blank level0\" ></th>        <th class=\"col_heading level0 col0\" >Purchase Count</th>        <th class=\"col_heading level0 col1\" >Item Price</th>        <th class=\"col_heading level0 col2\" >Total Purchase Value</th>    </tr>    <tr>        <th class=\"index_name level0\" >Item ID</th>        <th class=\"index_name level1\" >Item Name</th>        <th class=\"blank\" ></th>        <th class=\"blank\" ></th>        <th class=\"blank\" ></th>    </tr></thead><tbody>\n",
       "                <tr>\n",
       "                        <th id=\"T_9b114128_08f7_11ea_9537_f06e0be4d4c1level0_row0\" class=\"row_heading level0 row0\" >178</th>\n",
       "                        <th id=\"T_9b114128_08f7_11ea_9537_f06e0be4d4c1level1_row0\" class=\"row_heading level1 row0\" >Oathbreaker, Last Hope of the Breaking Storm</th>\n",
       "                        <td id=\"T_9b114128_08f7_11ea_9537_f06e0be4d4c1row0_col0\" class=\"data row0 col0\" >12</td>\n",
       "                        <td id=\"T_9b114128_08f7_11ea_9537_f06e0be4d4c1row0_col1\" class=\"data row0 col1\" >$4.23</td>\n",
       "                        <td id=\"T_9b114128_08f7_11ea_9537_f06e0be4d4c1row0_col2\" class=\"data row0 col2\" >$50.76</td>\n",
       "            </tr>\n",
       "            <tr>\n",
       "                        <th id=\"T_9b114128_08f7_11ea_9537_f06e0be4d4c1level0_row1\" class=\"row_heading level0 row1\" >145</th>\n",
       "                        <th id=\"T_9b114128_08f7_11ea_9537_f06e0be4d4c1level1_row1\" class=\"row_heading level1 row1\" >Fiery Glass Crusader</th>\n",
       "                        <td id=\"T_9b114128_08f7_11ea_9537_f06e0be4d4c1row1_col0\" class=\"data row1 col0\" >9</td>\n",
       "                        <td id=\"T_9b114128_08f7_11ea_9537_f06e0be4d4c1row1_col1\" class=\"data row1 col1\" >$4.58</td>\n",
       "                        <td id=\"T_9b114128_08f7_11ea_9537_f06e0be4d4c1row1_col2\" class=\"data row1 col2\" >$41.22</td>\n",
       "            </tr>\n",
       "            <tr>\n",
       "                        <th id=\"T_9b114128_08f7_11ea_9537_f06e0be4d4c1level0_row2\" class=\"row_heading level0 row2\" >108</th>\n",
       "                        <th id=\"T_9b114128_08f7_11ea_9537_f06e0be4d4c1level1_row2\" class=\"row_heading level1 row2\" >Extraction, Quickblade Of Trembling Hands</th>\n",
       "                        <td id=\"T_9b114128_08f7_11ea_9537_f06e0be4d4c1row2_col0\" class=\"data row2 col0\" >9</td>\n",
       "                        <td id=\"T_9b114128_08f7_11ea_9537_f06e0be4d4c1row2_col1\" class=\"data row2 col1\" >$3.53</td>\n",
       "                        <td id=\"T_9b114128_08f7_11ea_9537_f06e0be4d4c1row2_col2\" class=\"data row2 col2\" >$31.77</td>\n",
       "            </tr>\n",
       "            <tr>\n",
       "                        <th id=\"T_9b114128_08f7_11ea_9537_f06e0be4d4c1level0_row3\" class=\"row_heading level0 row3\" >82</th>\n",
       "                        <th id=\"T_9b114128_08f7_11ea_9537_f06e0be4d4c1level1_row3\" class=\"row_heading level1 row3\" >Nirvana</th>\n",
       "                        <td id=\"T_9b114128_08f7_11ea_9537_f06e0be4d4c1row3_col0\" class=\"data row3 col0\" >9</td>\n",
       "                        <td id=\"T_9b114128_08f7_11ea_9537_f06e0be4d4c1row3_col1\" class=\"data row3 col1\" >$4.90</td>\n",
       "                        <td id=\"T_9b114128_08f7_11ea_9537_f06e0be4d4c1row3_col2\" class=\"data row3 col2\" >$44.10</td>\n",
       "            </tr>\n",
       "            <tr>\n",
       "                        <th id=\"T_9b114128_08f7_11ea_9537_f06e0be4d4c1level0_row4\" class=\"row_heading level0 row4\" >19</th>\n",
       "                        <th id=\"T_9b114128_08f7_11ea_9537_f06e0be4d4c1level1_row4\" class=\"row_heading level1 row4\" >Pursuit, Cudgel of Necromancy</th>\n",
       "                        <td id=\"T_9b114128_08f7_11ea_9537_f06e0be4d4c1row4_col0\" class=\"data row4 col0\" >8</td>\n",
       "                        <td id=\"T_9b114128_08f7_11ea_9537_f06e0be4d4c1row4_col1\" class=\"data row4 col1\" >$1.02</td>\n",
       "                        <td id=\"T_9b114128_08f7_11ea_9537_f06e0be4d4c1row4_col2\" class=\"data row4 col2\" >$8.16</td>\n",
       "            </tr>\n",
       "    </tbody></table>"
      ],
      "text/plain": [
       "<pandas.io.formats.style.Styler at 0x276162ae348>"
      ]
     },
     "execution_count": 45,
     "metadata": {},
     "output_type": "execute_result"
    }
   ],
   "source": [
    "itemID_itemName = purchase_data.groupby([\"Item ID\",\"Item Name\"])\n",
    "item_pur_count = itemID_itemName[\"Purchase ID\"].count()\n",
    "\n",
    "total_pur = itemID_itemName[\"Price\"].sum()\n",
    "total_pur\n",
    "\n",
    "item_price = total_pur/item_pur_count\n",
    "item_price\n",
    "\n",
    "popular_items = pd.DataFrame({\"Purchase Count\": item_pur_count, \n",
    "                                   \"Item Price\": item_price,\n",
    "                                   \"Total Purchase Value\":total_pur})\n",
    "\n",
    "most_popular_items = popular_items.sort_values([\"Purchase Count\"], ascending=False).head()\n",
    "\n",
    "most_popular_items.style.format({\"Item Price\":\"${:,.2f}\",\n",
    "                                \"Total Purchase Value\":\"${:,.2f}\"})"
   ]
  },
  {
   "cell_type": "markdown",
   "metadata": {},
   "source": [
    "## Most Profitable Items"
   ]
  },
  {
   "cell_type": "markdown",
   "metadata": {},
   "source": [
    "* Sort the above table by total purchase value in descending order\n",
    "\n",
    "\n",
    "* Optional: give the displayed data cleaner formatting\n",
    "\n",
    "\n",
    "* Display a preview of the data frame\n",
    "\n"
   ]
  },
  {
   "cell_type": "code",
   "execution_count": 46,
   "metadata": {
    "scrolled": true
   },
   "outputs": [
    {
     "data": {
      "text/html": [
       "<style  type=\"text/css\" >\n",
       "</style><table id=\"T_cbf0cae2_08f7_11ea_8a75_f06e0be4d4c1\" ><thead>    <tr>        <th class=\"blank\" ></th>        <th class=\"blank level0\" ></th>        <th class=\"col_heading level0 col0\" >Purchase Count</th>        <th class=\"col_heading level0 col1\" >Item Price</th>        <th class=\"col_heading level0 col2\" >Total Purchase Value</th>    </tr>    <tr>        <th class=\"index_name level0\" >Item ID</th>        <th class=\"index_name level1\" >Item Name</th>        <th class=\"blank\" ></th>        <th class=\"blank\" ></th>        <th class=\"blank\" ></th>    </tr></thead><tbody>\n",
       "                <tr>\n",
       "                        <th id=\"T_cbf0cae2_08f7_11ea_8a75_f06e0be4d4c1level0_row0\" class=\"row_heading level0 row0\" >178</th>\n",
       "                        <th id=\"T_cbf0cae2_08f7_11ea_8a75_f06e0be4d4c1level1_row0\" class=\"row_heading level1 row0\" >Oathbreaker, Last Hope of the Breaking Storm</th>\n",
       "                        <td id=\"T_cbf0cae2_08f7_11ea_8a75_f06e0be4d4c1row0_col0\" class=\"data row0 col0\" >12</td>\n",
       "                        <td id=\"T_cbf0cae2_08f7_11ea_8a75_f06e0be4d4c1row0_col1\" class=\"data row0 col1\" >$4.23</td>\n",
       "                        <td id=\"T_cbf0cae2_08f7_11ea_8a75_f06e0be4d4c1row0_col2\" class=\"data row0 col2\" >$50.76</td>\n",
       "            </tr>\n",
       "            <tr>\n",
       "                        <th id=\"T_cbf0cae2_08f7_11ea_8a75_f06e0be4d4c1level0_row1\" class=\"row_heading level0 row1\" >82</th>\n",
       "                        <th id=\"T_cbf0cae2_08f7_11ea_8a75_f06e0be4d4c1level1_row1\" class=\"row_heading level1 row1\" >Nirvana</th>\n",
       "                        <td id=\"T_cbf0cae2_08f7_11ea_8a75_f06e0be4d4c1row1_col0\" class=\"data row1 col0\" >9</td>\n",
       "                        <td id=\"T_cbf0cae2_08f7_11ea_8a75_f06e0be4d4c1row1_col1\" class=\"data row1 col1\" >$4.90</td>\n",
       "                        <td id=\"T_cbf0cae2_08f7_11ea_8a75_f06e0be4d4c1row1_col2\" class=\"data row1 col2\" >$44.10</td>\n",
       "            </tr>\n",
       "            <tr>\n",
       "                        <th id=\"T_cbf0cae2_08f7_11ea_8a75_f06e0be4d4c1level0_row2\" class=\"row_heading level0 row2\" >145</th>\n",
       "                        <th id=\"T_cbf0cae2_08f7_11ea_8a75_f06e0be4d4c1level1_row2\" class=\"row_heading level1 row2\" >Fiery Glass Crusader</th>\n",
       "                        <td id=\"T_cbf0cae2_08f7_11ea_8a75_f06e0be4d4c1row2_col0\" class=\"data row2 col0\" >9</td>\n",
       "                        <td id=\"T_cbf0cae2_08f7_11ea_8a75_f06e0be4d4c1row2_col1\" class=\"data row2 col1\" >$4.58</td>\n",
       "                        <td id=\"T_cbf0cae2_08f7_11ea_8a75_f06e0be4d4c1row2_col2\" class=\"data row2 col2\" >$41.22</td>\n",
       "            </tr>\n",
       "            <tr>\n",
       "                        <th id=\"T_cbf0cae2_08f7_11ea_8a75_f06e0be4d4c1level0_row3\" class=\"row_heading level0 row3\" >92</th>\n",
       "                        <th id=\"T_cbf0cae2_08f7_11ea_8a75_f06e0be4d4c1level1_row3\" class=\"row_heading level1 row3\" >Final Critic</th>\n",
       "                        <td id=\"T_cbf0cae2_08f7_11ea_8a75_f06e0be4d4c1row3_col0\" class=\"data row3 col0\" >8</td>\n",
       "                        <td id=\"T_cbf0cae2_08f7_11ea_8a75_f06e0be4d4c1row3_col1\" class=\"data row3 col1\" >$4.88</td>\n",
       "                        <td id=\"T_cbf0cae2_08f7_11ea_8a75_f06e0be4d4c1row3_col2\" class=\"data row3 col2\" >$39.04</td>\n",
       "            </tr>\n",
       "            <tr>\n",
       "                        <th id=\"T_cbf0cae2_08f7_11ea_8a75_f06e0be4d4c1level0_row4\" class=\"row_heading level0 row4\" >103</th>\n",
       "                        <th id=\"T_cbf0cae2_08f7_11ea_8a75_f06e0be4d4c1level1_row4\" class=\"row_heading level1 row4\" >Singed Scalpel</th>\n",
       "                        <td id=\"T_cbf0cae2_08f7_11ea_8a75_f06e0be4d4c1row4_col0\" class=\"data row4 col0\" >8</td>\n",
       "                        <td id=\"T_cbf0cae2_08f7_11ea_8a75_f06e0be4d4c1row4_col1\" class=\"data row4 col1\" >$4.35</td>\n",
       "                        <td id=\"T_cbf0cae2_08f7_11ea_8a75_f06e0be4d4c1row4_col2\" class=\"data row4 col2\" >$34.80</td>\n",
       "            </tr>\n",
       "    </tbody></table>"
      ],
      "text/plain": [
       "<pandas.io.formats.style.Styler at 0x276161f5108>"
      ]
     },
     "execution_count": 46,
     "metadata": {},
     "output_type": "execute_result"
    }
   ],
   "source": [
    "most_profitable_items = popular_items.sort_values([\"Total Purchase Value\"], ascending=False).head()\n",
    "\n",
    "most_profitable_items.style.format({\"Item Price\":\"${:,.2f}\",\n",
    "                                \"Total Purchase Value\":\"${:,.2f}\"})"
   ]
  }
 ],
 "metadata": {
  "anaconda-cloud": {},
  "kernel_info": {
   "name": "python3"
  },
  "kernelspec": {
   "display_name": "Python 3",
   "language": "python",
   "name": "python3"
  },
  "language_info": {
   "codemirror_mode": {
    "name": "ipython",
    "version": 3
   },
   "file_extension": ".py",
   "mimetype": "text/x-python",
   "name": "python",
   "nbconvert_exporter": "python",
   "pygments_lexer": "ipython3",
   "version": "3.7.4"
  },
  "latex_envs": {
   "LaTeX_envs_menu_present": true,
   "autoclose": false,
   "autocomplete": true,
   "bibliofile": "biblio.bib",
   "cite_by": "apalike",
   "current_citInitial": 1,
   "eqLabelWithNumbers": true,
   "eqNumInitial": 1,
   "hotkeys": {
    "equation": "Ctrl-E",
    "itemize": "Ctrl-I"
   },
   "labels_anchors": false,
   "latex_user_defs": false,
   "report_style_numbering": false,
   "user_envs_cfg": false
  },
  "nteract": {
   "version": "0.2.0"
  }
 },
 "nbformat": 4,
 "nbformat_minor": 2
}
